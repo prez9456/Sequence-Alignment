{
  "nbformat": 4,
  "nbformat_minor": 0,
  "metadata": {
    "colab": {
      "name": "assignment3_sequence_alignment.ipynb",
      "provenance": [],
      "collapsed_sections": []
    },
    "kernelspec": {
      "display_name": "Python 3",
      "language": "python",
      "name": "python3"
    },
    "language_info": {
      "codemirror_mode": {
        "name": "ipython",
        "version": 3
      },
      "file_extension": ".py",
      "mimetype": "text/x-python",
      "name": "python",
      "nbconvert_exporter": "python",
      "pygments_lexer": "ipython3",
      "version": "3.7.6"
    }
  },
  "cells": [
    {
      "cell_type": "markdown",
      "metadata": {
        "id": "kj3TBIuIoLv7"
      },
      "source": [
        "# CS 425 fall 2021 Assignment 3\n",
        "\n",
        "\n",
        "## Sequence alignment\n",
        "\n",
        "### Part 1: Local alignment (70 pts)\n",
        "\n",
        "Modify the following [code for global alignment](https://github.com/asabenhur/CS425/blob/main/notebooks/04_global_alignment.ipynb) to perform local sequence alignment of proteins using a substitution matrix.  In your code, use the [BLOSUM 62 substitution matrix](http://www.ncbi.nlm.nih.gov/Class/FieldGuide/BLOSUM62.txt).  Use your code to align the Aniridia protein from *H. sapiens* to the eyeless protein from *D. melanogaster*. The sequences of these proteins can be obtained from the Uniprot database: [Aniridia protein](http://www.uniprot.org/uniprot/P26367) and [eyeless protein](http://www.uniprot.org/uniprot/O18381).\n",
        "Note that Uniprot has an option for saving an entry in Fasta format.\n",
        "\n",
        "* What is the score of the optimal local alignment of the two proteins?  In the optimal local alignment produced by your code, what is the percent identity of the two sequences?  (The fraction of amino acids that are identical divided by the length of the alignment).\n",
        "\n",
        "* Next, generate 100 random protein sequences with the same length and amino acid composition as the eyeless protein.  Align those sequences against the Aniridia protein, and compare the scores you obtained with those of the two PAX6 proteins, eyeless and Aniridia. What can you conclude from this about the relationship between the two PAX6 proteins?  \n",
        "\n"
      ]
    },
    {
      "cell_type": "code",
      "metadata": {
        "colab": {
          "base_uri": "https://localhost:8080/"
        },
        "id": "tuSbUxuzoLv8",
        "outputId": "11ffb60d-b2ad-487a-db9a-36b032a90ade"
      },
      "source": [
        "import numpy as np\n",
        "import random as rand\n",
        "from google.colab import drive\n",
        "drive.mount('/content/drive')"
      ],
      "execution_count": null,
      "outputs": [
        {
          "output_type": "stream",
          "name": "stdout",
          "text": [
            "Mounted at /content/drive\n"
          ]
        }
      ]
    },
    {
      "cell_type": "code",
      "metadata": {
        "id": "bY28Mjdvoe07"
      },
      "source": [
        "color = True\n",
        "try :\n",
        "    from termcolor import colored\n",
        "except :\n",
        "    color = False\n",
        "\n",
        "# the three directions you can go in the traceback:\n",
        "DIAG = 0 \n",
        "UP = 1 \n",
        "LEFT = 2\n",
        "\n",
        "arrows = [u\"\\u2196\", u\"\\u2191\", u\"\\u2190\"]\n",
        "\n",
        "def needleman_wunsch_matrix(seq1, seq2, match=1, mismatch=-1, indel=-.5):\n",
        "    \"\"\"\n",
        "    Fill the DP matrix according to the Needleman-Wunsch \n",
        "    algorithm for two sequences seq1 and seq2.\n",
        "    match:  the match score\n",
        "    mismatch:  the mismatch score\n",
        "    indel:  the indel score\n",
        "    \n",
        "    Returns the matrix of scores and the matrix of pointers\n",
        "    \"\"\"\n",
        "    n = len(seq1)\n",
        "    m = len(seq2)\n",
        "    s = np.zeros( (n+1, m+1) ) # DP matrix\n",
        "    ptr = np.zeros( (n+1, m+1), dtype=int  ) # matrix of pointers\n",
        "\n",
        "    ##### INITIALIZE SCORING MATRIX (base case) #####\n",
        "\n",
        "    for i in range(1, n+1) :\n",
        "        s[i,0] = indel * i\n",
        "    for j in range(1, m+1):\n",
        "        s[0,j] = indel * j\n",
        "        \n",
        "    ########## INITIALIZE TRACEBACK MATRIX ##########\n",
        "\n",
        "    # Tag first row by LEFT, indicating initial '-'s\n",
        "    ptr[0,1:] = LEFT\n",
        "        \n",
        "    # Tag first column by UP, indicating initial '-'s\n",
        "    ptr[1:,0] = UP\n",
        "\n",
        "    #####################################################\n",
        "    MaxScore = -1000\n",
        "    MaxScoreLocation = np.zeros( (n+1, m+1), dtype=int  )\n",
        "\n",
        "    for i in range(1,n+1):\n",
        "        for j in range(1,m+1): \n",
        "            # match\n",
        "            if seq1[i-1] == seq2[j-1]:\n",
        "                s[i,j] = s[i-1,j-1] + match\n",
        "\n",
        "                if s[i,j] > MaxScore:\n",
        "                  MaxScore = s[i,j]\n",
        "                  row = i\n",
        "                  col = j\n",
        "\n",
        "                ptr[i,j] = DIAG\n",
        "            # mismatch\n",
        "            else :\n",
        "                s[i,j] = s[i-1,j-1] + mismatch\n",
        "                ptr[i,j] = DIAG\n",
        "            # indel penalty\n",
        "            if s[i-1,j] + indel > s[i,j] :\n",
        "                s[i,j] = s[i-1,j] + indel\n",
        "                ptr[i,j] = UP\n",
        "            # indel penalty\n",
        "            if s[i, j-1] + indel > s[i,j]:\n",
        "                s[i,j] = s[i, j-1] + indel\n",
        "                ptr[i,j] = LEFT\n",
        "\n",
        "    \n",
        "    return s, ptr, row, col, MaxScore\n",
        "\n",
        "def needleman_wunsch_trace(seq1, seq2, s, ptr,row,col) :\n",
        "    #### TRACE BEST PATH TO GET ALIGNMENT ####\n",
        "    align1 = \"\"\n",
        "    align2 = \"\"\n",
        "    n, m = (row, col)\n",
        "    startRow, startCol = (0,0)\n",
        "    \n",
        "    i = n\n",
        "    j = m\n",
        "    curr = ptr[i, j]\n",
        "\n",
        "    while (i > startRow or j > startCol):        \n",
        "        ptr[i,j] += 3\n",
        "        if curr == DIAG :            \n",
        "            align1 = seq1[i-1] + align1\n",
        "            align2 = seq2[j-1] + align2\n",
        "            i -= 1\n",
        "            j -= 1            \n",
        "        elif curr == LEFT:\n",
        "            align1 = '-' + align1\n",
        "            align2 = seq2[j-1] + align2\n",
        "            j -= 1            \n",
        "        elif curr == UP:\n",
        "            align1 = seq1[i-1] + align1\n",
        "            align2 = '-' + align2\n",
        "            i -= 1\n",
        "           \n",
        "        curr = ptr[i,j]\n",
        "    \n",
        "    return align1, align2\n",
        "\n",
        "\n",
        "def show_ptr_matrix(ptr, seq1, seq2) :\n",
        "\n",
        "    print('\\n'+'~`'*25)\n",
        "    print(\"Local Traceback\")\n",
        "    global color\n",
        "    print(\" \" + \" \".join(seq2))\n",
        "    for i in range(len(ptr)) :\n",
        "        if (i > 0) :\n",
        "            print (seq1[i-1] + \" \",end=\"\")\n",
        "        if (i == 0) :\n",
        "            print(\"  \",end=\"\")\n",
        "        for j in range(len(ptr[i])) :\n",
        "            if color and ptr[i,j] >= 3 :\n",
        "                print(\" \" + colored(arrows[ptr[i,j]-3], 'green' ),\n",
        "                      end=\"\")\n",
        "            else :\n",
        "                if ptr[i,j] >=3 :\n",
        "                    ptr[i,j] -=3\n",
        "                print(\" \" + arrows[ptr[i,j]],end=\"\")\n",
        "        print() \n",
        "\n",
        "def show_dp_matrix(s, seq1, seq2) :\n",
        "\n",
        "    print('\\n'+'~`'*25)\n",
        "    print(\"Global DP matrix\")\n",
        "    print(\"         \" + \"    \".join(seq2))\n",
        "    for i in range(len(s)) :\n",
        "        if (i > 0) :\n",
        "            print(seq1[i-1] + \" \",end=\"\")\n",
        "        if (i == 0) :\n",
        "            print(\"  \",end=\"\")\n",
        "        for j in range(len(s[i])) :\n",
        "            print(\" \" + \"% 2.1f\" % s[i,j],end=\"\")\n",
        "        print()"
      ],
      "execution_count": null,
      "outputs": []
    },
    {
      "cell_type": "code",
      "metadata": {
        "id": "VKBR2Bpto4JF"
      },
      "source": [
        "\n",
        "def needleman_wunsch(seq1, seq2, match=1, mismatch=-1, indel=-.5, verbose=True) :\n",
        "    \"\"\"\n",
        "    computes an optimal global alignment of two sequences using \n",
        "    the Needleman-Wunsch algorithm\n",
        "    returns the alignment and its score\n",
        "    \"\"\"\n",
        "    s,ptr,row,col,maxscore = needleman_wunsch_matrix(seq1, seq2, match, mismatch, indel)\n",
        "    alignment = needleman_wunsch_trace(seq1, seq2, s, ptr,row,col)\n",
        "\n",
        "    if verbose :\n",
        "        # show_dp_matrix(s, seq1, seq2)\n",
        "        # show_ptr_matrix(ptr, seq1, seq2)\n",
        "        print('\\n'+'~`'*25)\n",
        "        print(\"Local Alignment Score: %f\\n\" % (maxscore))\n",
        "        print(\"Alignment:\")\n",
        "        print(alignment[0])\n",
        "        print(alignment[1])\n",
        "    \n",
        "\n",
        "    return alignment, s[len(seq1), len(seq2)]"
      ],
      "execution_count": null,
      "outputs": []
    },
    {
      "cell_type": "code",
      "metadata": {
        "id": "D8ZL3LopqVA9"
      },
      "source": [
        "def read_fasta(file):\n",
        "  with open(file,\"r\") as f:\n",
        "    #read first line of description\n",
        "    description = f.readline().rstrip()\n",
        "\n",
        "    #read proteins\n",
        "    proteins = \"\"\n",
        "    line = f.readline().rstrip()\n",
        "    while line != '':\n",
        "      proteins += line\n",
        "      line = f.readline().rstrip()\n",
        "  return proteins\n",
        "\n",
        "\n",
        "def proteinSequence():\n",
        "  proteins = 'ARNDCQEGHILKMFPSTWYV'\n",
        "\n",
        "  store = ''.join(rand.choice(proteins) for i in range(857))\n",
        "\n",
        "  return store\n",
        "\n",
        "if __name__ == '__main__':\n",
        "  aniridia = read_fasta('P26367.fasta')\n",
        "  eyeless = read_fasta('O18381.fasta')\n",
        "\n",
        "  print('Aniridia and Eyeless local alignment')\n",
        "  needleman_wunsch('-' + aniridia, '-' + eyeless, )\n",
        "  print()\n",
        "  print()\n",
        "  print()\n",
        "\n",
        "  for i in range(100):\n",
        "    print('String Number:', i+1)\n",
        "    needleman_wunsch(aniridia, proteinSequence())\n",
        "    print()\n",
        "    print()\n",
        "    print()"
      ],
      "execution_count": null,
      "outputs": []
    },
    {
      "cell_type": "markdown",
      "metadata": {
        "id": "UTuGN4_jysjM"
      },
      "source": [
        "# Analysis\n",
        "**Data Collection**\n",
        ">To complete the task given to me this time, I needed to use two FASTA files that were downloaded from uniprot.org to download the protein sequences of Aniridia and Eyeless proteins. The size of Aniridia is 422 characters long and the size of the eyeless sequence is 857 characters long. While it is not data, I was also given code provided by Dr.Asa Ben-Hur which creates a global alignmnet of the 2 sequences.\n",
        "\n",
        "**Data Quality Check And Cleaning**\n",
        ">This FASTA file came in just like most FASTA files with a description about the sequence followed by the actual data sequence needed to complete my task. I used the same read_fasta() function i've been using since it always works great with the given FASTA files. FIGURE 1\n",
        "\n",
        "```\n",
        "#FIGURE 1\n",
        "def read_fasta(file):\n",
        "  with open(file,\"r\") as f:\n",
        "    #read first line of description\n",
        "    description = f.readline().rstrip()\n",
        "\n",
        "    #read proteins\n",
        "    proteins = \"\"\n",
        "    line = f.readline().rstrip()\n",
        "    while line != '':\n",
        "      proteins += line\n",
        "      line = f.readline().rstrip()\n",
        "  return proteins\n",
        "```\n",
        ">Since I had no use for the description I stripped the first line but never returned it or had a use for it. The rest of the code just reads each line from the file and returns one singular string of the protein sequence.\n",
        "\n",
        "**Data Processing**\n",
        ">Processing the data was really diffrent this time around compared to the previous times. This is because I was actaully given code that completed a golbal alignment. What I did for the first hour or so was understanding what the code was doing then changing parts of the code to see how it will work with different factors. For example, I tested the code with only part of a sequence to see how the program would handle it. Also change some variables to see what the output will be. I also needed to check what type of inputs or variables changes will break the code and return an error of any type. Once I felt conmftroable with the code given to me I was ready to commit the changes needed to output a local alignment compared to a global alignment. The first step in the program is to extract the data from the FASA file in which I explain up above on what I did. Next I needed to call the function needleman_wunsch() which all it really does is call other functions to create the matrix and traceback. Then all it does next it print them out. As far as other functions go this is a pretty basic one that does mostly prints. FIGURE 2\n",
        "\n",
        "```\n",
        "# FIGURE 2\n",
        "def needleman_wunsch(seq1, seq2, match=5, mismatch=-1, indel=-.5, verbose=True):\n",
        "\n",
        "    s,ptr,row,col,maxscore = needleman_wunsch_matrix(seq1, seq2, match,mismatch, indel)\n",
        "\n",
        "    alignment = needleman_wunsch_trace(seq1, seq2, s, ptr,row,col)\n",
        "\n",
        "    if verbose :\n",
        "        # show_dp_matrix(s, seq1, seq2)\n",
        "        # show_ptr_matrix(ptr, seq1, seq2)\n",
        "        print('\\n'+'~`'*25)\n",
        "        print(\"Local Alignment Score: %f\\n\" % (maxscore))\n",
        "        print(\"Alignment:\")\n",
        "        print(alignment[0])\n",
        "        print(alignment[1])\n",
        "    \n",
        "    return alignment, s[len(seq1), len(seq2)]\n",
        "```\n",
        ">The next function that gets called is needleman_wunsch_matrix() and this functions job is to create the actual scoring matrix. It stars off with a NumPy array filled with zeros that will change once the code is running. It checks both strings at a certain index. Then it gives a score depending on if it is a match, mismatch or indel. I did need to edit the code to find the best local allignment.FIGURE 3\n",
        "\n",
        "\n",
        "```\n",
        "# FIGURE 3\n",
        " if s[i,j] > MaxScore:\n",
        "                  MaxScore = s[i,j]\n",
        "                  row = i\n",
        "                  col = j\n",
        "```\n",
        ">As you can see it was a small addition that helps me find the local alignmnet.\n",
        "I have a variable called MaxScore that is set to a low number and whenever we have a new high score then I set MaxScore to that number. I also keep track of the row and colloumn it was located in so I can pass that on to the next function so it knows to start the traceback at that point. The rest of the code was left untouched sinced I still needed the entire matrix to be filled with the scores. The next part of code the start running is called needleman_wunsch_trace(). In here I just needed to add the row and coloumn variables into the code so it knows that first of all I want the highest score of the local alignmnet and also that I want the traceback to start going back from that high score local alignment. At first the code was originally taking in the length of both sequences so it could start the tracback all the way at the end for the global alignment. So, all I neded to do was change those 2 variables and set them to row and colounmn variables that was returned from the prevoius function. FIGURE 4\n",
        "\n",
        "```\n",
        "# FIGURE 4\n",
        "  n, m = (row, col)\n",
        "```\n",
        "> Now the traceback knows exactly where to start to get the local alignment. The rest of the code is left untouched since I still want to get every single traceback but only return green arrows for the local alignment.\n",
        "We return back to the needleman_wunsch() function and all it has left to do is to print out the matrix, traceback, and the local alignment sequence. As of right now I have the commented out the matrix and traceback since the length of both strings are over 400 characters long. So when the matrix is printed out it can be really hard to see the scores and the tracback.\n",
        "\n",
        "**Data Analysis and Questions**\n",
        ">All the code is ready to be ran fully so I made sure that I set the scores of Match, Mismatch and indel are set accordingly. When I ran the code with the eyeless and anirdia sequences I got back the local alignmnet score of 98.5 and the alignmnet sequence being. \n",
        "```\n",
        "-MQN--------------------------------------S--------------HSGVNQLGGVFVNGRPLPDSTRQKIVELAHSGARPCDISRILQVSNGCVSKILGRYYETGSIRPRAIGGSKPRVATPEVVSKIAQYKRECPSIFAWEIRDRLLSEGVCTNDNIPSVSSINRVLRNL-A-SEKQQ--------------------------------------------M------------GA----DG-----MYDKLRMLN-------------------GQ------T---------G-----------SWGTR--PG-WYPGT--------------SV---------------P---------G-Q---P--T--------QDGCQQQE-G-G-GENTN---S-ISSNGEDSDEAQMRLQLKRKLQRNRTSFTQEQIEALEKEFERTHYPDVFARERLAAKIDLPEARIQVWFSNRRAKWRREEKLRNQRRQASNTP-SHIPIS--SSFSTS\n",
        "-MRNLPCLGTAGGSGLGGIAGKPSPTMEAVEASTASHRHSTSSYFATTYYHLTDDECHSGVNQLGGVFVGGRPLPDSTRQKIVELAHSGARPCDISRILQVSNGCVSKILGRYYETGSIRPRAIGGSKPRVATAEVVSKISQYKRECPSIFAWEIRDRLLQENVCTNDNIPSVSSINRVLRNLAAQKE-QQSTGSGSSSTSAGNSISAKVSVSIGGNVSNVASGSRGTLSSSTDLMQTATPLNSSESGGASNSGEGSEQEAIYEKLRLLNTQHAAGPGPLEPARAAPLVGQSPNHLGTRSSHPQLVHGNHQALQQHQQQSWPPRHYSGSWYP-TSLSEIPISSAPNIASVTAYASGPSLAHSLSPPNDIESLASIGHQRNCPVATEDIHLKKELDGHQSDETGSGEGENSNGGASNI-GNTED-D--QARLILKRKLQRNRTSFTNDQIDSLEKEFERTHYPDVFARERLAGKIGLPEARIQVWFSNRRAKWRREEKLRNQRR----TPNS-TGASATSS-STS\n",
        "```\n",
        "While it did return a lot of indels we can look closely and see there are 2 subsequences in which both strings share identical proteins. The percent identity of the 2 sequences is 47.9%. Next I randomly created 100 strings with diffrent sequences of protein and used that to see what kind of alignments I could get when compared with the aniridia sequence. Using random sequences showed me that the eyeless and aniridia sequences are very similar since the highest score I got back was a 1 and the lowest scoe being a -6.5. Below I will show you what the local alignment sequence was when running the code.\n",
        "```\n",
        "Local Alignment Score: -6.500000\n",
        "Alignment:\n",
        "-MQNSHSGV\n",
        "TKYAWPTYV\n",
        "Local Alignment Score: 0.000000\n",
        "Alignment:\n",
        "MQ\n",
        "EQ\n",
        "```\n",
        ">This tells me that the eyeless and aniridia sequences share strong similarities because even when creating 100 random strings of amino acids, it still struglled getting a high local alignment score."
      ]
    },
    {
      "cell_type": "markdown",
      "metadata": {
        "id": "F-XPZ7VvoLv9"
      },
      "source": [
        "### Part 2:  Global alignment variant (15 pts)\n",
        "\n",
        "Devise a dynamic programming algorithm that finds an optimal global alignment between two sequences such that the alignment contains at most k blocks of consecutive indels.\n"
      ]
    },
    {
      "cell_type": "markdown",
      "metadata": {
        "id": "C5NAUpRQoLv-"
      },
      "source": [
        ">In the function needleman_wunsch(), it returns the 2 alignment sequences. What I would have it do then is go through each sequence and find the biggest \"stretch\" of indels. I would iterate thorugh the string and as soon as I find an indel i'd keept track of its position and then count how many more indels follow that position and keep track of that number. Once it goes thorugh the entire string I can see where the string had the most amount of indels in a row. Since I would be keeping track of it's position I would be able to splice the string of certain positions to return the desire sequence alignment."
      ]
    },
    {
      "cell_type": "markdown",
      "metadata": {
        "id": "MtyULMW9oLv-"
      },
      "source": [
        "### Part 3:  Global alignment without end gap penalties (15 pts)\n",
        "\n",
        "Propose a modification of the Needleman Wunsch algorithm such that there is no penalty for indels at the end of the alignment.  There should be penalties for gaps at the beginning of the alignment."
      ]
    },
    {
      "cell_type": "markdown",
      "metadata": {
        "id": "L1QAb2ICoLv-"
      },
      "source": [
        ">The modification I would make would be quite a simple one to make. Since I keep track of where the traceback begins in 2 variables called row and col. I would just run the function needleman_wunsch_matrix() again except this time ill pass it the row and col so it knows that after this index in the NumPy array, there should be no penalties after it.\n"
      ]
    },
    {
      "cell_type": "markdown",
      "metadata": {
        "id": "nzdC8HlEoLv-"
      },
      "source": [
        "### Submission\n",
        "\n",
        "Submit your assignment as a Jupyter notebook via Canvas.  \n",
        "\n",
        "### Grading \n",
        "\n",
        "Here is what the grading sheet will look like for this assignment. \n",
        "\n",
        "```\n",
        "Grading sheet for assignment 3\n",
        "\n",
        "Part 1\n",
        "- Implementation of SW with a substitution matrix (50 pts)\n",
        "- Results and analysis (20 pts)\n",
        "Part 2 (15 pts)\n",
        "Part 3 (15 pts)\n",
        "\n",
        "```\n"
      ]
    },
    {
      "cell_type": "code",
      "metadata": {
        "id": "ndfSPaHNoLv-"
      },
      "source": [
        ""
      ],
      "execution_count": null,
      "outputs": []
    }
  ]
}